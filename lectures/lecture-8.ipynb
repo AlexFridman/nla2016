{
 "cells": [
  {
   "cell_type": "markdown",
   "metadata": {
    "slideshow": {
     "slide_type": "slide"
    }
   },
   "source": [
    "# Lecture 8: Symmetric eigenvalue problems (algorithms) and SVD (applications)"
   ]
  },
  {
   "cell_type": "markdown",
   "metadata": {
    "slideshow": {
     "slide_type": "slide"
    }
   },
   "source": [
    "## Recap of the previous lecture\n",
    "- QR decomposition and Gram-Schmidt algorithm\n",
    "- Schur decomposition and QR-algorithm (basic)"
   ]
  },
  {
   "cell_type": "markdown",
   "metadata": {
    "slideshow": {
     "slide_type": "slide"
    }
   },
   "source": [
    "## Today lecture\n",
    "\n",
    "Today we will talk about:\n",
    "\n",
    "- Algorithms for the symmetric eigenvalue problems (QR-algorithm, Divide-and-Conquer, bisection)\n",
    "- SVD and its applicationss\n"
   ]
  },
  {
   "cell_type": "markdown",
   "metadata": {
    "slideshow": {
     "slide_type": "slide"
    }
   },
   "source": [
    "## Schur form computation\n",
    "\n",
    "Before QR-algorithm it is a good idea first to make a matrix have a simpler structure, such that each step is cheaper.\n",
    "\n",
    "For a general matrix it is the **Hessenberg form**"
   ]
  },
  {
   "cell_type": "markdown",
   "metadata": {
    "slideshow": {
     "slide_type": "slide"
    }
   },
   "source": [
    "## Hessenberg form\n",
    "\n",
    "The matrix $A$ is said to be in the Hessenberg form, if\n",
    "\n",
    "$$a_{ij} = 0, \\quad \\mbox{if } i \\geq j+2.$$\n",
    "\n",
    "$$H = \\begin{bmatrix} * & * & * & * & * \\\\\n",
    "                      * & * & * & * & * \\\\\n",
    "                      0 & * & * & * & *\\\\\n",
    "                      0 & 0 & * & * & *\\\\\n",
    "                      0 & 0 & 0 & * & * \\\\\n",
    "                      \\end{bmatrix}.\n",
    "                      $$"
   ]
  },
  {
   "cell_type": "markdown",
   "metadata": {
    "slideshow": {
     "slide_type": "slide"
    }
   },
   "source": [
    "## Bringing any matrix to Hessenberg form\n",
    "\n",
    "By Householder reflection we can take any matrix to the Hessenberg form\n",
    "$$U^* A U = H$$\n",
    "\n",
    "The only difference with Schur decomposition is that we have to map the first column to the vector with two non-zeros, and the first element is not changed.\n",
    "\n",
    "The computational cost of such reduction is $\\mathcal{O}(n^3)$ operations.\n",
    "\n",
    "In a Hessenberg form, computation of the QR factorization costs $\\mathcal{O}(n^2)$ operations, and the Hessenberg form is preserved by the QR iteration (check why)."
   ]
  },
  {
   "cell_type": "markdown",
   "metadata": {
    "slideshow": {
     "slide_type": "slide"
    }
   },
   "source": [
    "## Symmetric (Hermitian) case\n",
    "\n",
    "In the symmetric case, we have $A = A^*$, then $H = H^*$ and the upper Hessenberg form becomes tridiagonal matrix.\n",
    "\n",
    "From now on we will talk about the case symmetric tridiagonal form.\n",
    "\n",
    "Any symmetric (Hermitian) matrix can be reduced to the tridiagonal form by Householder reflection.\n",
    "\n",
    "Key point is that tridiagonal form is preserved by the QR-algorithm, and the cost of one step can be reduced to $\\mathcal{O}(n)$."
   ]
  },
  {
   "cell_type": "markdown",
   "metadata": {
    "slideshow": {
     "slide_type": "slide"
    }
   },
   "source": [
    "## QR-algorithm: iterations\n",
    "\n",
    "The iterations of the QR-algorithm have the following form:\n",
    "\n",
    "$$A_k = Q_k R_k, \\quad A_{k+1} = R_k Q_k.$$\n",
    "\n",
    "If $A_0 = A$ is <font color='red'> tridiagonal symmetric matrix </font>, this form is preserved by the QR-algorithm.\n",
    "\n",
    "Let us see.."
   ]
  },
  {
   "cell_type": "code",
   "execution_count": 3,
   "metadata": {
    "collapsed": false,
    "slideshow": {
     "slide_type": "slide"
    }
   },
   "outputs": [
    {
     "data": {
      "text/plain": [
       "array([ 2.38797059, -1.31318828,  0.        ,  0.        ,  0.        ,\n",
       "        0.        ,  0.        ,  0.        ,  0.        ,  0.        ,\n",
       "        0.        ,  0.        ,  0.        ,  0.        ,  0.        ,\n",
       "        0.        ,  0.        ,  0.        ,  0.        ,  0.        ])"
      ]
     },
     "execution_count": 3,
     "metadata": {},
     "output_type": "execute_result"
    },
    {
     "data": {
      "image/png": "[encoded data removed]",
      "text/plain": [
       "<matplotlib.figure.Figure at 0x10621de10>"
      ]
     },
     "metadata": {},
     "output_type": "display_data"
    },
    {
     "data": {
      "image/png": "[encoded data removed]",
      "text/plain": [
       "<matplotlib.figure.Figure at 0x118b2ea50>"
      ]
     },
     "metadata": {},
     "output_type": "display_data"
    }
   ],
   "source": [
    "%matplotlib inline\n",
    "import numpy as np\n",
    "import matplotlib.pyplot as plt\n",
    "import seaborn as sns\n",
    "sns.set_style('white')\n",
    "#Generate a random tridiagonal matrix\n",
    "\n",
    "n = 20\n",
    "d = np.random.randn(n)\n",
    "sub_diag = np.random.randn(n-1)\n",
    "\n",
    "mat = np.diag(d) + np.diag(sub_diag, -1) + np.diag(sub_diag, 1)\n",
    "mat1 = np.abs(mat)\n",
    "mat1 = mat1/np.max(mat1.flatten())\n",
    "plt.spy(mat)\n",
    "q, r = np.linalg.qr(mat)\n",
    "plt.figure()\n",
    "b = r.dot(q)\n",
    "b[abs(b) <= 1e-12] = 0\n",
    "plt.spy(b)\n",
    "#plt.figure()\n",
    "#plt.imshow(np.abs(r.dot(q)))\n",
    "b[0, :]"
   ]
  },
  {
   "cell_type": "markdown",
   "metadata": {
    "slideshow": {
     "slide_type": "slide"
    }
   },
   "source": [
    "## Tridiagonal form\n",
    "In the tridiagonal form, you do not have to compute the **Q** matrix: you only have to compute the **triadiagonal part**\n",
    "that appears after the iterations \n",
    "\n",
    "$$A_k = Q_k R_k, \\quad A_{k+1}  = R_k Q_k,$$\n",
    "\n",
    "in the case when $A_k = A^*_k$ and is also tridiagonal.\n",
    "\n",
    "\n",
    "Such matrix is defined by $\\mathcal{O}(n)$ parameters; computation of the QR is more complicated,\n",
    "but it is possible to compute $A_{k+1}$ directly without computing $Q_k$.\n",
    "\n",
    "This is called **implicit QR-step**"
   ]
  },
  {
   "cell_type": "markdown",
   "metadata": {
    "slideshow": {
     "slide_type": "slide"
    }
   },
   "source": [
    "## Theorem on implicit-QR iteration\n",
    "\n",
    "\n",
    "All the implicit QR-algorithms are based on the following **theorem**: \n",
    "\n",
    "Let $$Q^* A Q = H$$ be an irreducible upper Hessenberg matrix.\n",
    "\n",
    "Then, the first column of the matrix $Q$ defines all of its other columns. \n",
    "It can be found from the equation\n",
    "\n",
    "$$A Q = Q H. $$\n"
   ]
  },
  {
   "cell_type": "markdown",
   "metadata": {
    "slideshow": {
     "slide_type": "slide"
    }
   },
   "source": [
    "## Convergence of the QR-algorithm\n",
    "\n",
    "The convergence of the QR-algorithm is a very **delicate issue** (see Tyrtyshnikov, Brief introduction to numerical analysis for details). \n",
    "\n",
    "\n",
    "Summary. If we have a decomposition of the form\n",
    "\n",
    "$$A = X \\Lambda X^{-1}, \\quad A = \\begin{bmatrix}A_{11} & A_{12} \\\\ A_{21} & A_{22}\\end{bmatrix}$$\n",
    "\n",
    "and \n",
    "$$\n",
    "\\Lambda = \\begin{bmatrix} \\Lambda_1 & 0 \\\\ \n",
    "0 & \\Lambda_2 \\end{bmatrix}, \\quad \\lambda(\\Lambda_1)=\\{\\lambda_1,\\dots,\\lambda_m\\}, \\ \\lambda(\\Lambda_2)=\\{\\lambda_{m+1},\\dots,\\lambda_r\\},\n",
    "$$\n",
    "\n",
    "and there is a **gap** between the eigenvalues of $\\Lambda_1$ and $\\Lambda_2$ ($|\\lambda_1|\\geq \\dots \\geq |\\lambda_m| > |\\lambda_{m+1}| \\geq\\dots \\geq |\\lambda_r| >0$), then the $A^{(k)}_{21}$ block of $A_k$\n",
    "in the QR-iteration goes to zero with \n",
    "\n",
    "$$\\Vert A^{(k)}_{21} \\Vert \\leq  C q^k, \\quad q = \\left| \\frac{\\lambda_{m+1}}{\\lambda_{m}}  \\right |,$$\n",
    "\n",
    "where $m$ is the size of $\\Lambda_1$.\n",
    "\n",
    "So we need to increase the gap!  It can be done by the **QR-algorithm with shifts**."
   ]
  },
  {
   "cell_type": "markdown",
   "metadata": {
    "slideshow": {
     "slide_type": "slide"
    }
   },
   "source": [
    "## QR-algorithm with shifts\n",
    "\n",
    "$$A_{k} - s_k I = Q_k R_k, \\quad A_{k+1} = R_k Q_k + s_k I$$\n",
    "\n",
    "\n",
    "The convergence rate for a shifted version is then\n",
    "\n",
    "$$\\left| \\frac{\\lambda_{m+1} - s_k}{\\lambda_{m} - s_k}  \\right |,$$\n",
    "\n",
    "where $\\lambda_m$ is the $m$-th largest eigenvalue of the matrix in modulus. If the shift is close to the eigenvalue, then the convergence speed is better.\n",
    "\n",
    "There are different stratagies to choose shifts. \n",
    "\n",
    "Shifts is a general stratagy to improve convergence of iterative methods of finding eigenvalues. In next slides we will illustrate how to choose shift on a simpler algorithm."
   ]
  },
  {
   "cell_type": "markdown",
   "metadata": {
    "slideshow": {
     "slide_type": "slide"
    }
   },
   "source": [
    "## Shifts and power method\n",
    "\n",
    "Remember the power method for the computation of the eigenvalues.\n",
    "\n",
    "$$x_{k+1} := A x_k, \\quad x_{k+1} := \\frac{x_{k+1}}{\\Vert x_{k+1} \\Vert}.$$\n",
    "\n",
    "It converges to the eigenvalue corresponding to the largest eigenvalue in modulus. \n",
    "\n",
    "The convergence can be very slow.\n",
    "\n",
    "Let us try to use shifting strategy. If we shift the matrix as \n",
    "\n",
    "$$  A := A - \\lambda_k I.$$\n",
    "\n",
    "and the corresponding eigenvalue becomes small (but we need large). That is not what we wanted."
   ]
  },
  {
   "cell_type": "markdown",
   "metadata": {
    "slideshow": {
     "slide_type": "slide"
    }
   },
   "source": [
    "## Inverse iteration and Rayleigh quotient iteration\n",
    "\n",
    "To make a small eigenvalue large, we need to **invert the matrix**, and that gives us **inverse iteration**\n",
    "\n",
    "$$x_{k+1} = (A - \\lambda I)^{-1} x_k,$$\n",
    "\n",
    "where $\\lambda$ is the shift which is approximation to the eigenvalue that we want. As it was for the power method, the convegence is linear.\n",
    "\n",
    "To accelerate convergence one can use the **Rayleigh quotient iteration** (inverse iteration with adaptive shifts) which is given by the selection of the **adaptive shift**:\n",
    "\n",
    "$$x_{k+1} = (A - \\lambda_k I)^{-1} x_k,$$\n",
    "$$\\lambda_k = \\frac{(Ax_k, x_k)}{(x_k, x_k)}$$\n",
    "\n",
    "In the symmetric case $A = A^*$ the convergence is **locally cubic** and **locally quadratic** otherwise."
   ]
  },
  {
   "cell_type": "markdown",
   "metadata": {
    "slideshow": {
     "slide_type": "slide"
    }
   },
   "source": [
    "## Singular values and eigenvalues (1)\n",
    "\n",
    "Now let us talk about singular values and eigenvalues. \n",
    "\n",
    "SVD: $$A = U \\Sigma V^*$$\n",
    "\n",
    "exists for any matrix.\n",
    "\n",
    "It can be also viewed as a reduction of a given matrix to the diagonal form by means of \n",
    "\n",
    "two-sided unitary transformations:\n",
    "\n",
    "$$\\Sigma = U^* A V.$$\n",
    "\n",
    "By two-sided Householder transformation we can reduce any matrix to the **bidiagonal form** $B$."
   ]
  },
  {
   "cell_type": "markdown",
   "metadata": {
    "slideshow": {
     "slide_type": "slide"
    }
   },
   "source": [
    "## Singular values and eigenvalues (2)\n",
    "\n",
    "**Implicit QR-algorithm** (with shifts) gives the way of computing the eigenvalues (and Schur form).\n",
    "But we cannot apply QR-algorithm directly to the bidiagonal matrix, as it is not diagonalizable in general case.\n",
    "\n",
    "However, the problem of the computation of the SVD can be reduced to the **symmetric eigenvalue problem** in two ways:\n",
    "\n",
    "1. Work with the tridiagonal matrix $$T = B^* B$$ \n",
    "2. Work with the extended matrix $$T = \\begin{bmatrix} 0 & B \\\\ B^* & 0 \\end{bmatrix}$$\n",
    "\n",
    "\n",
    "The case 1. is ok if you **do not form T directly**!\n",
    "\n",
    "Thus, the problem of computing singular values can be reduced to the problem of the computation of the eigenvalues of symmetric tridiagonal matrix."
   ]
  },
  {
   "cell_type": "markdown",
   "metadata": {
    "slideshow": {
     "slide_type": "slide"
    }
   },
   "source": [
    "## Algorithms for the SEV  (symmetric eigenvalue problem)\n",
    "\n",
    "Done:\n",
    "- QR-algorithm: the \"gold standard\" of the eigenvalue computations\n",
    "- RQI-iteration: Rayleigh quotient iteration is implicitly performed at each step of the QR-algorithm\n",
    "\n",
    "Next slides:\n",
    "- Divide-and-conquer: the fastest (?) nowdays\n",
    "- Bisection method\n",
    "- Jacobi method"
   ]
  },
  {
   "cell_type": "markdown",
   "metadata": {
    "slideshow": {
     "slide_type": "slide"
    }
   },
   "source": [
    "## Divide-and-conquer\n",
    "\n",
    "Suppose we have a tridiagonal matrix, and we split it into two blocks:\n",
    "\n",
    "\n",
    "$$T = \\begin{bmatrix} T'_1 & B \\\\ B^{\\top} & T'_2 \\end{bmatrix}$$\n",
    "\n",
    "We can write the matrix $T$ as\n",
    "\n",
    "$$T = \\begin{bmatrix} T_1 & 0 \\\\ 0 & T_2 \\end{bmatrix} + b_m v v^*$$\n",
    "\n",
    "where $vv^*$ is rank 1 matrix, $v = (0,\\dots,0,1,1,0,\\dots,0)^T$.\n",
    "\n",
    "Suppose we have decomposed $T_1$ and $T_2$ already:\n",
    "\n",
    "$$T_1 = Q_1 \\Lambda_1 Q^*_1, \\quad T_2 = Q_2 \\Lambda_2 Q^*_2$$\n",
    "\n",
    "Then (check),\n",
    "\n",
    "$$\\begin{bmatrix} Q^*_1 & 0 \\\\ 0 & Q^*_2 \\end{bmatrix} T\\begin{bmatrix} Q^*_1 & 0 \\\\ 0 & Q^*_2 \\end{bmatrix} = D + \\rho u u^{*}, \\quad D = \\begin{bmatrix} \\Lambda_1 & 0 \\\\ 0 & \\Lambda_2\\end{bmatrix}$$\n",
    "\n",
    "I.e. we have reduced the problem to the problem of the computation of the eigenvalues of \n",
    "\n",
    "\n",
    "<font color='red'> diagonal plus low-rank matrix </font>\n",
    "\n"
   ]
  },
  {
   "cell_type": "markdown",
   "metadata": {
    "slideshow": {
     "slide_type": "slide"
    }
   },
   "source": [
    "## Diagonal-plus-low-rank matrix\n",
    "\n",
    "It is tricky to compute the eigenvalues of the matrix\n",
    "\n",
    "$$D + \\rho u u^* $$\n",
    "\n",
    "The characteristic polynomial has the form\n",
    "\n",
    "$$\\det(D + \\rho uu^* - \\lambda I) = \\det(D - \\lambda I)\\det(I + \\rho (D - \\lambda I)^{-1} uu^*) = 0.$$\n",
    "\n",
    "Then (prove!!) \n",
    "\n",
    "$$\\det(I + \\rho (D - \\lambda I)^{-1} uu^*) = 1 + \\rho \\sum_{i=1}^n \\frac{|u_i|^2}{d_i - \\lambda} = 0$$\n",
    "\n",
    "Hint: find $\\det(I + w u^*)$ using the fact that $\\text{det}(C) = \\prod_{i=1}^n\\lambda_i(C)$ and $\\text{trace}(C) = \\sum_{i=1}^n \\lambda_i$."
   ]
  },
  {
   "cell_type": "markdown",
   "metadata": {
    "slideshow": {
     "slide_type": "slide"
    }
   },
   "source": [
    "## Characteristic equation\n",
    "\n",
    "$$1 + \\rho \\sum_{i=1}^n \\frac{|u_i|^2}{d_i - \\lambda} = 0$$\n",
    "\n",
    "How to find the roots?"
   ]
  },
  {
   "cell_type": "code",
   "execution_count": 4,
   "metadata": {
    "collapsed": false,
    "slideshow": {
     "slide_type": "slide"
    }
   },
   "outputs": [
    {
     "data": {
      "text/plain": [
       "<matplotlib.text.Text at 0x118c69bd0>"
      ]
     },
     "execution_count": 4,
     "metadata": {},
     "output_type": "execute_result"
    },
    {
     "data": {
      "image/png": "[encoded data removed]",
      "text/plain": [
       "<matplotlib.figure.Figure at 0x10623c0d0>"
      ]
     },
     "metadata": {},
     "output_type": "display_data"
    }
   ],
   "source": [
    "import numpy as np\n",
    "\n",
    "lm = [1, 2, 3, 4]\n",
    "M = len(lm)\n",
    "D = np.array(lm)\n",
    "a = np.min(lm)\n",
    "b = np.max(lm)\n",
    "t = np.linspace(-1, 6, 1000)\n",
    "u = 0.5 * np.ones(M)\n",
    "rho = 1\n",
    "def fun(lam):\n",
    "    return 1 + rho * np.sum(u**2/(D - lam))\n",
    "res = [fun(lam) for lam in t]\n",
    "plt.plot(res, 'k')\n",
    "plt.ylim([-6, 6])\n",
    "plt.tight_layout()\n",
    "plt.title('Plot of the function')"
   ]
  },
  {
   "cell_type": "markdown",
   "metadata": {
    "slideshow": {
     "slide_type": "slide"
    }
   },
   "source": [
    "The function has only one root at $[d_i, d_{i+1}]$\n",
    "\n",
    "We have proved, by the way, the **Cauchy interlacing theorem** (what happens to the eigenvalues under rank-$1$ perturbation)"
   ]
  },
  {
   "cell_type": "markdown",
   "metadata": {
    "slideshow": {
     "slide_type": "slide"
    }
   },
   "source": [
    "## How to find the root\n",
    "\n",
    "A Newton method will fail (draw a picture with a tangent line).\n",
    "\n",
    "Note that Newton method is just approximation of a function $f(\\lambda)$ by a linear function.\n",
    "\n",
    "Much better approximation is the **hyperbola**:\n",
    "\n",
    "$$f(\\lambda) \\approx c_0 + \\frac{c_1}{d_i - \\lambda} + \\frac{c_2}{d_{i+1} - \\lambda}.$$\n",
    "\n",
    "To fit the coefficients, we have to evaluate $f(\\lambda)$ and $f'(\\lambda)$ in the particular point.\n",
    "\n",
    "After that, the approximation can be recovered from solving **quadratic equation**\n",
    "\n",
    "\n"
   ]
  },
  {
   "cell_type": "markdown",
   "metadata": {
    "slideshow": {
     "slide_type": "slide"
    }
   },
   "source": [
    "## Important issues\n",
    "\n",
    "First, stability: This method was abandoned for a long time due to instability of the computation of the eigenvectors.\n",
    "\n",
    "In the recursion, we need to compute the eigenvectors of the $D + \\rho uu^*$ matrix.\n",
    "\n",
    "The exact expression for the eigenvectors is  just (let us check!)\n",
    "\n",
    "$$(D - \\alpha_i I)^{-1}u,$$ where $\\alpha_i$ is the computed root."
   ]
  },
  {
   "cell_type": "markdown",
   "metadata": {
    "slideshow": {
     "slide_type": "slide"
    }
   },
   "source": [
    "## Lowner theorem\n",
    "\n",
    "The solution came is to use a strange **Lowner theorem:**\n",
    "\n",
    "If $\\alpha_i$ and $d_i$ satisfy the **interlacing theorem** \n",
    "\n",
    "\n",
    "$$d_n < \\alpha_n < \\ldots < d_{i+1} < \\alpha_{i+1} \\ldots$$\n",
    "\n",
    "Then there exists a vector $\\widehat{u}$ such that $\\alpha_i$ are exact eigenvalues of the matrix\n",
    "\n",
    "$$\\widehat{D} = D + \\widehat{u} \\widehat{u}^*.$$\n",
    "\n",
    "So, you first compute the eigenvalues, then compute $\\widehat{u}$ and only then the eigenvectors."
   ]
  },
  {
   "cell_type": "markdown",
   "metadata": {
    "slideshow": {
     "slide_type": "slide"
    }
   },
   "source": [
    "## Divide and conquer and the Fast Multipole Method\n",
    "\n",
    "In the computations of divide and conquer we have to evaluate the sums of the form\n",
    "\n",
    "$$f(\\lambda) = 1 + \\rho \\sum_{i=1}^n \\frac{|u_i|^2}{(d_i - \\lambda)},$$\n",
    "\n",
    "and have to do it at least for $n$ points. \n",
    "\n",
    "The complexity is then $\\mathcal{O}(n^2)$, as for the QR-algorithm.\n",
    "\n",
    "Can we make it $\\mathcal{O}(n \\log n)$? \n",
    "\n",
    "The answer is yes, but we have to replace the computations by the approximate ones\n",
    "by the help of **Fast Multipole Method**.\n",
    "\n",
    "I will do a short explanation on the whiteboard."
   ]
  },
  {
   "cell_type": "markdown",
   "metadata": {
    "slideshow": {
     "slide_type": "slide"
    }
   },
   "source": [
    "## Few more algorithms\n",
    "\n",
    "Absolutely different approach is based on the **bisection**.\n",
    "\n",
    "Given a matrix $A$ its inertia is defined as a triple $(\\nu, \\zeta, \\pi)$,  \n",
    "where $\\nu$ is the number of negative, $\\zeta$ - zero and $\\pi$ - positive eigenvalues. \n",
    "\n",
    "If $X$ is non-singular, then \n",
    "\n",
    "$$Inertia(A) = Inertia(X^* A X)$$"
   ]
  },
  {
   "cell_type": "markdown",
   "metadata": {
    "slideshow": {
     "slide_type": "slide"
    }
   },
   "source": [
    "## Bisection via Gaussian elimination\n",
    "\n",
    "Given $z$ we can do the Gaussian elimination:\n",
    "\n",
    "$$A - zI = L D L^*,$$\n",
    "\n",
    "and inertia of the diagonal matrix is trivial to compute.\n",
    "\n",
    "Thus, if we want to find all the eigenvalues in the interval $a$, $b$\n",
    "\n",
    "Using inertia, we can easily count the number of eigenvalues in an interval. <br>\n",
    "Illustration: if $Inertia(A)=(5,0,2)$ and after shift $Inertia(A-zI)=(4,0,3)$, $z\\in[a,b]$ then we know that $\\lambda(A)\\in[a,z]$."
   ]
  },
  {
   "cell_type": "markdown",
   "metadata": {
    "slideshow": {
     "slide_type": "slide"
    }
   },
   "source": [
    "## Jacobi method\n",
    "\n",
    "Recall what a Jacobi (Givens rotations) are:\n",
    "\n",
    "In a plane they correspong to a $2 \\times 2$ orthogonal matrix of the form\n",
    "\n",
    "$$\\begin{pmatrix} \\cos \\phi & \\sin \\phi \\\\ -\\sin \\phi & \\cos \\phi \\end{pmatrix},$$\n",
    "\n",
    "and in the $n$-dimensional case we select two variables $i$ and $j$ and rotate."
   ]
  },
  {
   "cell_type": "markdown",
   "metadata": {
    "slideshow": {
     "slide_type": "slide"
    }
   },
   "source": [
    "## Jacobi method (cont.)\n",
    "\n",
    "The idea of the Jacobi method is to minimize sum of squares of off-diagonal elements:\n",
    "\n",
    "$$\\Gamma(A) = \\mathrm{off}( U^* A U), \\quad \\mathrm{off}(X) = \\sqrt{\\sum_{i \\ne j} \\left|X_{ij}\\right|^2}.$$\n",
    "\n",
    "by applying succesive Jacobi rotations to \"kill\" off-diagonal elements. \n",
    "\n",
    "When the \"pivot\" is chosen, it is easy to eliminate it. \n",
    "\n",
    "The main question is then what is the order of **sweeps** we have to make (i.e. in which order to eliminate).\n",
    "\n",
    "If we always eliminate the largest off-diagonal elements the method has quadratic convergence.\n",
    "\n",
    "In practice, a cyclic order (i.e., $(1, 2), (1, 3), \\ldots, (2, 3), \\ldots$ is used."
   ]
  },
  {
   "cell_type": "markdown",
   "metadata": {
    "slideshow": {
     "slide_type": "slide"
    }
   },
   "source": [
    "## Jacobi method: convergence\n",
    "\n",
    "If we always select the largest off-diagonal element to eliminate (pivot), then we have\n",
    "\n",
    "$$|A_{ij}| \\leq p,$$\n",
    "\n",
    "thus  $$p^2 \\leq \\Gamma(A)^2 \\leq 2 N p^2,$$\n",
    "\n",
    "or \n",
    "\n",
    "$$2p^2 \\geq \\frac{\\Gamma(A)^2}{N}.$$\n",
    "\n",
    "Since we at least set $p$ to zero, then\n",
    "\n",
    "$$\\Gamma(A_1) \\leq \\sqrt{\\left(1 - \\frac{1}{N}\\right)} \\Gamma(A).$$\n",
    "\n",
    "Aften $N$ steps we have the factor\n",
    "\n",
    "$$\\left(1 - \\frac{1}{N}\\right)^{\\frac{N}{2}} \\approx e^{-\\frac{1}{2}},$$\n",
    "\n",
    "i.e. linear convergence. However, the convergence is locally quadratic (given without proof here)."
   ]
  },
  {
   "cell_type": "markdown",
   "metadata": {
    "slideshow": {
     "slide_type": "slide"
    }
   },
   "source": [
    "## Jacobi: summary\n",
    "\n",
    "Jacobi method was the first numerical method for the eigenvalues, proposed in 1846.\n",
    "\n",
    "- Large constant\n",
    "- Very accurate (high relative error for small eigenvalues)\n",
    "- Good parallel capabilities"
   ]
  },
  {
   "cell_type": "markdown",
   "metadata": {
    "slideshow": {
     "slide_type": "slide"
    }
   },
   "source": [
    "## Summary for this part\n",
    "- Many algorithms for the computation of the SEV solution (QR, Divide-and-conquer, bisection, Jacobi)"
   ]
  },
  {
   "cell_type": "markdown",
   "metadata": {
    "slideshow": {
     "slide_type": "slide"
    }
   },
   "source": [
    "## SVD\n",
    "\n",
    "Now we go to the applications of the SVD.\n",
    "\n",
    "SVD is extremely important in computational science and engineering.\n",
    "\n",
    "It has many names: Principal component analysis, Proper Orthogonal Decomposition, Empirical Orthogonal Functions\n",
    "\n",
    "We will consider:\n",
    "\n",
    "1. Latent semantic analysis\n",
    "2. Collaborative filtering\n",
    "3. Data compression"
   ]
  },
  {
   "cell_type": "markdown",
   "metadata": {
    "slideshow": {
     "slide_type": "slide"
    }
   },
   "source": [
    "## Application 1: Latent semantic analysis\n",
    "One of the most famous application is Latent semantic indexing, see, for example,  \n",
    "[Deerwester, Scott C., et al. \"Indexing by latent semantic analysis.\" (1990)](http://www.cob.unt.edu/itds/faculty/evangelopoulos/dsci5910/LSA_Deerwester1990.pdf)  \n",
    "\n",
    "The problem setup: we have a set of text documents $D_1, \\ldots, D_N.$ We want to solve the search problem: i.e., we have a query as a set of words, and we want to find the best documents.  \n",
    "Our data is processed as follows:  for each document we create a list of words contained in the document, and count the frequencies of each word. This is called the **bag of words** model (i.e., the document is unordered set of words).  "
   ]
  },
  {
   "cell_type": "markdown",
   "metadata": {
    "slideshow": {
     "slide_type": "slide"
    }
   },
   "source": [
    "## Term-document matrix\n",
    "This is how the term-document matrix $A$ is obtained. Its row size is **the size of the dictionary**.   \n",
    "Its column size is **the number of documents**.  An element $A_{ij}$ the frequency of occurence of the $i$-th word in the $j$-document.\n",
    "\n",
    "To do the search, we can just multiply a term-documnt matrix by a **search vector**, i.e. a list of words."
   ]
  },
  {
   "cell_type": "markdown",
   "metadata": {
    "slideshow": {
     "slide_type": "fragment"
    }
   },
   "source": [
    "**The problem**: The document will be returned only if there is an exact word match.  However, we might search for \"Samuel Clemens\", and hope to get the results for \"Mark Twain\" as well.  But there might be no exact match!  \n",
    "How the SVD can help?"
   ]
  },
  {
   "cell_type": "markdown",
   "metadata": {
    "slideshow": {
     "slide_type": "slide"
    }
   },
   "source": [
    "## Idea of LSI\n",
    "Compute **low-rank approximation** $A_r$ of the term-document matrix $A$.  \n",
    "$$A \\approx A_r,$$\n",
    "and **we do not care about the approximation error** (i.e., we do not require it to be small).  \n",
    "The matrix $A_r$ can be then used to do queries.  \n",
    "\n",
    "We project the documents to **low-dimensional subspace**, given a query $q$ the projection is  \n",
    "$$q_r = \\Sigma^{-1}_r U^{\\top}_r q$$\n",
    "Now we can compute the similarity between $d_r$ and other projected documents  \n",
    "$$\\widehat{d}_i = \\Sigma^{-1}_r U^{\\top}_r d_i,$$\n",
    "and compute the **cosine** of the angles  between the query and the projected document."
   ]
  },
  {
   "cell_type": "markdown",
   "metadata": {
    "slideshow": {
     "slide_type": "slide"
    }
   },
   "source": [
    "## Demo\n",
    "Now we can test a demo database"
   ]
  },
  {
   "cell_type": "code",
   "execution_count": 6,
   "metadata": {
    "collapsed": false,
    "slideshow": {
     "slide_type": "slide"
    }
   },
   "outputs": [
    {
     "data": {
      "text/html": [
       "<div>\n",
       "<table border=\"1\" class=\"dataframe\">\n",
       "  <thead>\n",
       "    <tr style=\"text-align: right;\">\n",
       "      <th></th>\n",
       "      <th>0</th>\n",
       "      <th>1</th>\n",
       "      <th>2</th>\n",
       "      <th>3</th>\n",
       "      <th>4</th>\n",
       "      <th>5</th>\n",
       "      <th>6</th>\n",
       "      <th>7</th>\n",
       "      <th>8</th>\n",
       "    </tr>\n",
       "  </thead>\n",
       "  <tbody>\n",
       "    <tr>\n",
       "      <th>human</th>\n",
       "      <td>1.0</td>\n",
       "      <td>0.0</td>\n",
       "      <td>0.0</td>\n",
       "      <td>1.0</td>\n",
       "      <td>0.0</td>\n",
       "      <td>0.0</td>\n",
       "      <td>0.0</td>\n",
       "      <td>0.0</td>\n",
       "      <td>0.0</td>\n",
       "    </tr>\n",
       "    <tr>\n",
       "      <th>interface</th>\n",
       "      <td>1.0</td>\n",
       "      <td>0.0</td>\n",
       "      <td>1.0</td>\n",
       "      <td>0.0</td>\n",
       "      <td>0.0</td>\n",
       "      <td>0.0</td>\n",
       "      <td>0.0</td>\n",
       "      <td>0.0</td>\n",
       "      <td>0.0</td>\n",
       "    </tr>\n",
       "    <tr>\n",
       "      <th>computer</th>\n",
       "      <td>1.0</td>\n",
       "      <td>1.0</td>\n",
       "      <td>0.0</td>\n",
       "      <td>0.0</td>\n",
       "      <td>0.0</td>\n",
       "      <td>0.0</td>\n",
       "      <td>0.0</td>\n",
       "      <td>0.0</td>\n",
       "      <td>0.0</td>\n",
       "    </tr>\n",
       "    <tr>\n",
       "      <th>user</th>\n",
       "      <td>0.0</td>\n",
       "      <td>1.0</td>\n",
       "      <td>1.0</td>\n",
       "      <td>0.0</td>\n",
       "      <td>1.0</td>\n",
       "      <td>0.0</td>\n",
       "      <td>0.0</td>\n",
       "      <td>0.0</td>\n",
       "      <td>0.0</td>\n",
       "    </tr>\n",
       "    <tr>\n",
       "      <th>system</th>\n",
       "      <td>0.0</td>\n",
       "      <td>1.0</td>\n",
       "      <td>1.0</td>\n",
       "      <td>1.0</td>\n",
       "      <td>0.0</td>\n",
       "      <td>0.0</td>\n",
       "      <td>0.0</td>\n",
       "      <td>0.0</td>\n",
       "      <td>0.0</td>\n",
       "    </tr>\n",
       "    <tr>\n",
       "      <th>response</th>\n",
       "      <td>0.0</td>\n",
       "      <td>1.0</td>\n",
       "      <td>0.0</td>\n",
       "      <td>0.0</td>\n",
       "      <td>1.0</td>\n",
       "      <td>0.0</td>\n",
       "      <td>0.0</td>\n",
       "      <td>0.0</td>\n",
       "      <td>0.0</td>\n",
       "    </tr>\n",
       "    <tr>\n",
       "      <th>time</th>\n",
       "      <td>0.0</td>\n",
       "      <td>1.0</td>\n",
       "      <td>0.0</td>\n",
       "      <td>0.0</td>\n",
       "      <td>1.0</td>\n",
       "      <td>0.0</td>\n",
       "      <td>0.0</td>\n",
       "      <td>0.0</td>\n",
       "      <td>0.0</td>\n",
       "    </tr>\n",
       "    <tr>\n",
       "      <th>EPS</th>\n",
       "      <td>0.0</td>\n",
       "      <td>0.0</td>\n",
       "      <td>1.0</td>\n",
       "      <td>1.0</td>\n",
       "      <td>0.0</td>\n",
       "      <td>0.0</td>\n",
       "      <td>0.0</td>\n",
       "      <td>0.0</td>\n",
       "      <td>0.0</td>\n",
       "    </tr>\n",
       "    <tr>\n",
       "      <th>survey</th>\n",
       "      <td>0.0</td>\n",
       "      <td>1.0</td>\n",
       "      <td>0.0</td>\n",
       "      <td>0.0</td>\n",
       "      <td>0.0</td>\n",
       "      <td>0.0</td>\n",
       "      <td>0.0</td>\n",
       "      <td>0.0</td>\n",
       "      <td>1.0</td>\n",
       "    </tr>\n",
       "    <tr>\n",
       "      <th>trees</th>\n",
       "      <td>0.0</td>\n",
       "      <td>0.0</td>\n",
       "      <td>0.0</td>\n",
       "      <td>0.0</td>\n",
       "      <td>0.0</td>\n",
       "      <td>1.0</td>\n",
       "      <td>1.0</td>\n",
       "      <td>1.0</td>\n",
       "      <td>0.0</td>\n",
       "    </tr>\n",
       "    <tr>\n",
       "      <th>graph</th>\n",
       "      <td>0.0</td>\n",
       "      <td>0.0</td>\n",
       "      <td>0.0</td>\n",
       "      <td>0.0</td>\n",
       "      <td>0.0</td>\n",
       "      <td>0.0</td>\n",
       "      <td>1.0</td>\n",
       "      <td>1.0</td>\n",
       "      <td>1.0</td>\n",
       "    </tr>\n",
       "    <tr>\n",
       "      <th>minors</th>\n",
       "      <td>0.0</td>\n",
       "      <td>0.0</td>\n",
       "      <td>0.0</td>\n",
       "      <td>0.0</td>\n",
       "      <td>0.0</td>\n",
       "      <td>0.0</td>\n",
       "      <td>0.0</td>\n",
       "      <td>1.0</td>\n",
       "      <td>1.0</td>\n",
       "    </tr>\n",
       "  </tbody>\n",
       "</table>\n",
       "</div>"
      ],
      "text/plain": [
       "             0    1    2    3    4    5    6    7    8\n",
       "human      1.0  0.0  0.0  1.0  0.0  0.0  0.0  0.0  0.0\n",
       "interface  1.0  0.0  1.0  0.0  0.0  0.0  0.0  0.0  0.0\n",
       "computer   1.0  1.0  0.0  0.0  0.0  0.0  0.0  0.0  0.0\n",
       "user       0.0  1.0  1.0  0.0  1.0  0.0  0.0  0.0  0.0\n",
       "system     0.0  1.0  1.0  1.0  0.0  0.0  0.0  0.0  0.0\n",
       "response   0.0  1.0  0.0  0.0  1.0  0.0  0.0  0.0  0.0\n",
       "time       0.0  1.0  0.0  0.0  1.0  0.0  0.0  0.0  0.0\n",
       "EPS        0.0  0.0  1.0  1.0  0.0  0.0  0.0  0.0  0.0\n",
       "survey     0.0  1.0  0.0  0.0  0.0  0.0  0.0  0.0  1.0\n",
       "trees      0.0  0.0  0.0  0.0  0.0  1.0  1.0  1.0  0.0\n",
       "graph      0.0  0.0  0.0  0.0  0.0  0.0  1.0  1.0  1.0\n",
       "minors     0.0  0.0  0.0  0.0  0.0  0.0  0.0  1.0  1.0"
      ]
     },
     "execution_count": 6,
     "metadata": {},
     "output_type": "execute_result"
    }
   ],
   "source": [
    "import numpy as np\n",
    "import pandas as pd\n",
    "import re #Regular expressions\n",
    "rows = ['human', 'interface', 'computer', 'user', 'system', 'response', 'time', 'EPS', 'survey', 'trees', 'graph', 'minors']\n",
    "nterms = len(rows)\n",
    "docs = []\n",
    "docs += ['Human machine interface for Lab ABC computer applications']\n",
    "docs += ['A survey of user opinions of computer system response time']\n",
    "docs += ['The EPS user interfaces management system']\n",
    "docs += ['System and human system engineering testing of EPS']\n",
    "docs += ['Relation of user-perceived response time on user management']\n",
    "docs += ['The generation of random, binary, unordered trees']\n",
    "docs += ['The intersection graph of paths in trees']\n",
    "docs += ['Graph minors IV: Width of trees and well-quasi-ordering']\n",
    "docs += ['Graph minors: A survey']\n",
    "ndocs = len(docs)\n",
    "term_doc = np.zeros((nterms, ndocs))\n",
    "for i in xrange(nterms):\n",
    "    for j in xrange(ndocs):\n",
    "        if re.search(rows[i], docs[j], re.IGNORECASE):\n",
    "            term_doc[i, j] = 1\n",
    "#Use pandas to plot        \n",
    "pd.DataFrame(data=term_doc,index=rows)"
   ]
  },
  {
   "cell_type": "markdown",
   "metadata": {
    "slideshow": {
     "slide_type": "fragment"
    }
   },
   "source": [
    "Now we can compare the results between ordinary matvec and low-rank matvec."
   ]
  },
  {
   "cell_type": "code",
   "execution_count": 7,
   "metadata": {
    "collapsed": false,
    "slideshow": {
     "slide_type": "slide"
    }
   },
   "outputs": [
    {
     "name": "stdout",
     "output_type": "stream",
     "text": [
      "There query is: Human computer interaction ,the scores are:\n"
     ]
    },
    {
     "data": {
      "text/html": [
       "<div>\n",
       "<table border=\"1\" class=\"dataframe\">\n",
       "  <thead>\n",
       "    <tr style=\"text-align: right;\">\n",
       "      <th></th>\n",
       "      <th>No SVD</th>\n",
       "      <th>SVD</th>\n",
       "    </tr>\n",
       "  </thead>\n",
       "  <tbody>\n",
       "    <tr>\n",
       "      <th>Human machine interface for Lab ABC computer applications</th>\n",
       "      <td>2.0</td>\n",
       "      <td>0.316794</td>\n",
       "    </tr>\n",
       "    <tr>\n",
       "      <th>A survey of user opinions of computer system response time</th>\n",
       "      <td>1.0</td>\n",
       "      <td>1.011276</td>\n",
       "    </tr>\n",
       "    <tr>\n",
       "      <th>The EPS user interfaces management system</th>\n",
       "      <td>0.0</td>\n",
       "      <td>0.663677</td>\n",
       "    </tr>\n",
       "    <tr>\n",
       "      <th>System and human system engineering testing of EPS</th>\n",
       "      <td>1.0</td>\n",
       "      <td>0.405542</td>\n",
       "    </tr>\n",
       "    <tr>\n",
       "      <th>Relation of user-perceived response time on user management</th>\n",
       "      <td>0.0</td>\n",
       "      <td>0.554066</td>\n",
       "    </tr>\n",
       "    <tr>\n",
       "      <th>The generation of random, binary, unordered trees</th>\n",
       "      <td>0.0</td>\n",
       "      <td>-0.035325</td>\n",
       "    </tr>\n",
       "    <tr>\n",
       "      <th>The intersection graph of paths in trees</th>\n",
       "      <td>0.0</td>\n",
       "      <td>-0.065210</td>\n",
       "    </tr>\n",
       "    <tr>\n",
       "      <th>Graph minors IV: Width of trees and well-quasi-ordering</th>\n",
       "      <td>0.0</td>\n",
       "      <td>-0.082587</td>\n",
       "    </tr>\n",
       "    <tr>\n",
       "      <th>Graph minors: A survey</th>\n",
       "      <td>0.0</td>\n",
       "      <td>0.055939</td>\n",
       "    </tr>\n",
       "  </tbody>\n",
       "</table>\n",
       "</div>"
      ],
      "text/plain": [
       "                                                    No SVD       SVD\n",
       "Human machine interface for Lab ABC computer ap...     2.0  0.316794\n",
       "A survey of user opinions of computer system re...     1.0  1.011276\n",
       "The EPS user interfaces management system              0.0  0.663677\n",
       "System and human system engineering testing of EPS     1.0  0.405542\n",
       "Relation of user-perceived response time on use...     0.0  0.554066\n",
       "The generation of random, binary, unordered trees      0.0 -0.035325\n",
       "The intersection graph of paths in trees               0.0 -0.065210\n",
       "Graph minors IV: Width of trees and well-quasi-...     0.0 -0.082587\n",
       "Graph minors: A survey                                 0.0  0.055939"
      ]
     },
     "execution_count": 7,
     "metadata": {},
     "output_type": "execute_result"
    }
   ],
   "source": [
    "query = 'Human computer interaction'\n",
    "qv = np.zeros((nterms))\n",
    "for i in xrange(nterms):\n",
    "    if re.search(rows[i], query, re.IGNORECASE):\n",
    "        qv[i] = 1\n",
    "res1 = qv.dot(term_doc) #Non-compressed search result\n",
    "\n",
    "u, s, v = np.linalg.svd(term_doc)\n",
    "r = 2\n",
    "u = u[:, :r]\n",
    "s = s[:r]\n",
    "v = v[:r, :] #Numpy transposes\n",
    "appr1  = u.dot(np.diag(s)).dot(v)\n",
    "res2 = qv.dot(appr1)\n",
    "res_all = np.vstack((res1, res2)).T #To make two columns\n",
    "print 'There query is:', query, ',the scores are:'\n",
    "pd.DataFrame(res_all, index=docs, columns=['No SVD', 'SVD'])"
   ]
  },
  {
   "cell_type": "markdown",
   "metadata": {
    "slideshow": {
     "slide_type": "slide"
    }
   },
   "source": [
    "## Application 2: Collaborative filtering\n",
    "\n",
    "Another important (and similar) application comes from **recommender systems**.  \n",
    "\n",
    "Suppose you have a **user-product matrix**: each user puts a rating for a particular product.\n",
    "\n",
    "The matrix is then **the number of users times the number of products**. The goal is to recommend additional products to be bought for a particular user.  \n",
    "\n",
    "The scheme is the same: we compute the SVD, and the recommendation for each user is just a column of the approximated matrix."
   ]
  },
  {
   "cell_type": "code",
   "execution_count": 9,
   "metadata": {
    "collapsed": false,
    "slideshow": {
     "slide_type": "slide"
    }
   },
   "outputs": [],
   "source": [
    "#Read the data\n",
    "data_read = np.loadtxt('task2_transact_eval.txt',dtype=np.int32, skiprows=1,delimiter='|')"
   ]
  },
  {
   "cell_type": "code",
   "execution_count": 10,
   "metadata": {
    "collapsed": true,
    "slideshow": {
     "slide_type": "fragment"
    }
   },
   "outputs": [],
   "source": [
    "columns = ['SessionNo', 'ItemNo', 'TransType']\n",
    "ds = pd.DataFrame(data=data_read,columns=columns)"
   ]
  },
  {
   "cell_type": "code",
   "execution_count": 11,
   "metadata": {
    "collapsed": false,
    "slideshow": {
     "slide_type": "fragment"
    }
   },
   "outputs": [
    {
     "name": "stdout",
     "output_type": "stream",
     "text": [
      "Unique sessions: 101217 Unique products 15182\n"
     ]
    }
   ],
   "source": [
    "from itertools import product\n",
    "ds_buy = ds[ds.TransType==2][['SessionNo', 'ItemNo']]\n",
    "users, inv_users = np.unique(data_read[:, 0], return_inverse=True)\n",
    "products, inv_products = np.unique(data_read[:, 1], return_inverse=True)\n",
    "print 'Unique sessions:', len(users), 'Unique products', len(products)\n",
    "#Scipy spars"
   ]
  },
  {
   "cell_type": "code",
   "execution_count": 13,
   "metadata": {
    "collapsed": false,
    "slideshow": {
     "slide_type": "fragment"
    }
   },
   "outputs": [
    {
     "data": {
      "text/plain": [
       "<matplotlib.text.Text at 0x110eb93d0>"
      ]
     },
     "execution_count": 13,
     "metadata": {},
     "output_type": "execute_result"
    },
    {
     "data": {
      "image/png": "[encoded data removed]",
      "text/plain": [
       "<matplotlib.figure.Figure at 0x10452f810>"
      ]
     },
     "metadata": {},
     "output_type": "display_data"
    }
   ],
   "source": [
    "import scipy.sparse\n",
    "import scipy.sparse.linalg\n",
    "plt.xkcd()\n",
    "nnz = len(inv_users)\n",
    "spmat = scipy.sparse.coo_matrix((np.ones(nnz), (inv_users, inv_products)))\n",
    "r =  2#Approximation rank\n",
    "u, s, v = scipy.sparse.linalg.svds(spmat, r)\n",
    "n = spmat.shape[0]\n",
    "m = spmat.shape[1]\n",
    "q = np.zeros(n)\n",
    "user_id = 1\n",
    "q[user_id] = 1.0\n",
    "\n",
    "qrec = q.T.dot(u).dot(np.diag(s)).dot(v)\n",
    "qrec = qrec / np.max(abs(qrec))\n",
    "plt.plot(qrec)\n",
    "qb = spmat.T.dot(q)\n",
    "plt.plot(qb)\n",
    "plt.xlabel('Product ID')\n",
    "plt.ylabel('Recommendation')"
   ]
  },
  {
   "cell_type": "markdown",
   "metadata": {
    "slideshow": {
     "slide_type": "slide"
    }
   },
   "source": [
    "## Application 3: Dense matrix compression\n",
    "\n",
    "Dense matrices typically require $N^2$ elements to be stored. For $N \\sim 10^4 - 10^5$ the memory requirements. A low rank approximation can reduces this number of $\\mathcal{O}(Nr)$"
   ]
  },
  {
   "cell_type": "code",
   "execution_count": 95,
   "metadata": {
    "collapsed": false,
    "slideshow": {
     "slide_type": "slide"
    }
   },
   "outputs": [
    {
     "data": {
      "text/plain": [
       "<matplotlib.text.Text at 0x11997f9d0>"
      ]
     },
     "execution_count": 95,
     "metadata": {},
     "output_type": "execute_result"
    },
    {
     "data": {
      "image/png": "[encoded data removed]",
      "text/plain": [
       "<matplotlib.figure.Figure at 0x119d2f850>"
      ]
     },
     "metadata": {},
     "output_type": "display_data"
    }
   ],
   "source": [
    "import numpy as np\n",
    "%matplotlib inline\n",
    "import matplotlib.pyplot as plt\n",
    "plt.xkcd()\n",
    "n = 256\n",
    "a = [[1.0/(i + j + 0.5) for i in range(n)] for j in range(n)]\n",
    "a = np.array(a)\n",
    "u, s, v = np.linalg.svd(a)\n",
    "plt.semilogy(s/s[0])\n",
    "plt.title('Singular values decay for a Hilbert matrix')"
   ]
  },
  {
   "cell_type": "markdown",
   "metadata": {
    "slideshow": {
     "slide_type": "slide"
    }
   },
   "source": [
    "## A more realistic example\n",
    "We can try to test on a more realistic matrix, since solving linear systems with Hilbert matrix has little practical sense. Instead, we solve a linear system with a matrix\n",
    "$$A_{ij} = \\frac{1}{i - j + \\frac{1}{2}},$$\n",
    "which corresponds to an integral equation\n",
    "$$\n",
    "    \\int \\frac{q(y)dy}{x - y } = f(x).\n",
    "$$\n",
    "In real life, the equation  \n",
    "$$\n",
    "    \\int_{\\Omega} \\frac{q(y)dy}{\\Vert x - y\\Vert } = f(x),\n",
    "$$\n",
    "is solved, where $\\Omega$ is a surface in 3D. This is used, for example, in modelling integral circuits.\n",
    "Let us see what happens with the singular values."
   ]
  },
  {
   "cell_type": "code",
   "execution_count": 99,
   "metadata": {
    "collapsed": false
   },
   "outputs": [
    {
     "data": {
      "text/plain": [
       "4.8849813083506888e-15"
      ]
     },
     "execution_count": 99,
     "metadata": {},
     "output_type": "execute_result"
    },
    {
     "data": {
      "image/png": "[encoded data removed]",
      "text/plain": [
       "<matplotlib.figure.Figure at 0x119cce150>"
      ]
     },
     "metadata": {},
     "output_type": "display_data"
    }
   ],
   "source": [
    "import numpy as np\n",
    "import numpy as np\n",
    "%matplotlib inline\n",
    "import matplotlib.pyplot as plt\n",
    "plt.xkcd()\n",
    "n = 256\n",
    "a = [[1.0/(i - j + 0.5) for i in xrange(n)] for j in xrange(n)]\n",
    "a = np.array(a)\n",
    "u, s, v = np.linalg.svd(a)\n",
    "plt.plot(s)\n",
    "plt.title('Singular values decay for a Cauchy-Hilbert matrix')\n",
    "plt.tight_layout()\n",
    "s[5] - np.pi"
   ]
  },
  {
   "cell_type": "markdown",
   "metadata": {
    "slideshow": {
     "slide_type": "slide"
    }
   },
   "source": [
    "What to do?  \n",
    "\n",
    "The idea is to break the matrix intro blocks  \n",
    "\n",
    "$$\n",
    "    A = \\begin{bmatrix}\n",
    "    A_{11} & A_{12} \\\\\n",
    "    A_{21} & A_{22}\n",
    "    \\end{bmatrix}\n",
    "$$\n",
    "\n",
    "and the blocks $A_{12}$ and $A_{21}$ will be of low-rank!  Let us try that.."
   ]
  },
  {
   "cell_type": "code",
   "execution_count": 100,
   "metadata": {
    "collapsed": false,
    "slideshow": {
     "slide_type": "slide"
    }
   },
   "outputs": [
    {
     "data": {
      "text/plain": [
       "[<matplotlib.lines.Line2D at 0x1191721d0>]"
      ]
     },
     "execution_count": 100,
     "metadata": {},
     "output_type": "execute_result"
    },
    {
     "data": {
      "image/png": "[encoded data removed]",
      "text/plain": [
       "<matplotlib.figure.Figure at 0x119d91190>"
      ]
     },
     "metadata": {},
     "output_type": "display_data"
    }
   ],
   "source": [
    "import numpy as np\n",
    "import numpy as np\n",
    "%matplotlib inline\n",
    "import matplotlib.pyplot as plt\n",
    "plt.xkcd()\n",
    "n = 256\n",
    "a = [[1.0/(i - j + 0.5) for i in xrange(n)] for j in xrange(n)]\n",
    "a = np.array(a)\n",
    "a12 = a[:n/2,n/2:]\n",
    "a21 = a[n/2:,:n/2]\n",
    "s12 = np.linalg.svd(a12)[1]\n",
    "s21 = np.linalg.svd(a21)[1]\n",
    "plt.semilogy(s12)\n",
    "plt.semilogy(s21)#Actually, they are the same"
   ]
  },
  {
   "cell_type": "markdown",
   "metadata": {
    "slideshow": {
     "slide_type": "slide"
    }
   },
   "source": [
    "## Block-low rank matrices\n",
    "\n",
    "Surprisingly many matrices in PDEs can be well approximated by block-low-rank (other names: hierarchical, mosaic-skeleton) matrices.\n",
    "\n",
    "They have linear storage, but algorithms are not very **simple**"
   ]
  },
  {
   "cell_type": "markdown",
   "metadata": {
    "slideshow": {
     "slide_type": "slide"
    }
   },
   "source": [
    "## Summary of todays lecture\n",
    "\n",
    "- Algorithms for symmetric eigenvalue problems\n",
    "- Three applications of the SVD\n"
   ]
  },
  {
   "cell_type": "markdown",
   "metadata": {
    "slideshow": {
     "slide_type": "slide"
    }
   },
   "source": [
    "## Next lecture\n",
    "- We start **sparse and/or structured** NLA."
   ]
  },
  {
   "cell_type": "markdown",
   "metadata": {
    "slideshow": {
     "slide_type": "slide"
    }
   },
   "source": [
    "# Questions?"
   ]
  },
  {
   "cell_type": "code",
   "execution_count": 14,
   "metadata": {
    "collapsed": false,
    "slideshow": {
     "slide_type": "skip"
    }
   },
   "outputs": [
    {
     "data": {
      "text/html": [
       "<link href='http://fonts.googleapis.com/css?family=Fenix' rel='stylesheet' type='text/css'>\n",
       "<link href='http://fonts.googleapis.com/css?family=Alegreya+Sans:100,300,400,500,700,800,900,100italic,300italic,400italic,500italic,700italic,800italic,900italic' rel='stylesheet' type='text/css'>\n",
       "<link href='http://fonts.googleapis.com/css?family=Source+Code+Pro:300,400' rel='stylesheet' type='text/css'>\n",
       "<style>\n",
       "    @font-face {\n",
       "        font-family: \"Computer Modern\";\n",
       "        src: url('http://mirrors.ctan.org/fonts/cm-unicode/fonts/otf/cmunss.otf');\n",
       "    }\n",
       "    div.cell{\n",
       "        /*width:80%;*/\n",
       "        /*margin-left:auto !important;\n",
       "        margin-right:auto;*/\n",
       "    }\n",
       "    h1 {\n",
       "        font-family: 'Alegreya Sans', sans-serif;\n",
       "    }\n",
       "    h2 {\n",
       "        font-family: 'Fenix', serif;\n",
       "    }\n",
       "    h3{\n",
       "\t\tfont-family: 'Fenix', serif;\n",
       "        margin-top:12px;\n",
       "        margin-bottom: 3px;\n",
       "       }\n",
       "\th4{\n",
       "\t\tfont-family: 'Fenix', serif;\n",
       "       }\n",
       "    h5 {\n",
       "        font-family: 'Alegreya Sans', sans-serif;\n",
       "    }\t   \n",
       "    div.text_cell_render{\n",
       "        font-family: 'Alegreya Sans',Computer Modern, \"Helvetica Neue\", Arial, Helvetica, Geneva, sans-serif;\n",
       "        line-height: 1.2;\n",
       "        font-size: 120%;\n",
       "        /*width:70%;*/\n",
       "        /*margin-left:auto;*/\n",
       "        margin-right:auto;\n",
       "    }\n",
       "    .CodeMirror{\n",
       "            font-family: \"Source Code Pro\";\n",
       "\t\t\tfont-size: 90%;\n",
       "    }\n",
       "/*    .prompt{\n",
       "        display: None;\n",
       "    }*/\n",
       "    .text_cell_render h1 {\n",
       "        font-weight: 200;\n",
       "        font-size: 50pt;\n",
       "\t\tline-height: 110%;\n",
       "        color:#CD2305;\n",
       "        margin-bottom: 0.5em;\n",
       "        margin-top: 0.5em;\n",
       "        display: block;\n",
       "    }\t\n",
       "    .text_cell_render h5 {\n",
       "        font-weight: 300;\n",
       "        font-size: 16pt;\n",
       "        color: #CD2305;\n",
       "        font-style: italic;\n",
       "        margin-bottom: .5em;\n",
       "        margin-top: 0.5em;\n",
       "        display: block;\n",
       "    }\n",
       "    \n",
       "    li {\n",
       "        line-height: 110%;\n",
       "    }\n",
       "    .warning{\n",
       "        color: rgb( 240, 20, 20 )\n",
       "        }  \n",
       "\n",
       "</style>\n",
       "\n",
       "<script>\n",
       "    MathJax.Hub.Config({\n",
       "                        TeX: {\n",
       "                           extensions: [\"AMSmath.js\"]\n",
       "                           },\n",
       "                tex2jax: {\n",
       "                    inlineMath: [ ['$','$'], [\"\\\\(\",\"\\\\)\"] ],\n",
       "                    displayMath: [ ['$$','$$'], [\"\\\\[\",\"\\\\]\"] ]\n",
       "                },\n",
       "                displayAlign: 'center', // Change this to 'center' to center equations.\n",
       "                \"HTML-CSS\": {\n",
       "                    styles: {'.MathJax_Display': {\"margin\": 4}}\n",
       "                }\n",
       "        });\n",
       "</script>\n"
      ],
      "text/plain": [
       "<IPython.core.display.HTML object>"
      ]
     },
     "execution_count": 14,
     "metadata": {},
     "output_type": "execute_result"
    }
   ],
   "source": [
    "from IPython.core.display import HTML\n",
    "def css_styling():\n",
    "    styles = open(\"./styles/custom.css\", \"r\").read()\n",
    "    return HTML(styles)\n",
    "css_styling()"
   ]
  }
 ],
 "metadata": {
  "anaconda-cloud": {},
  "celltoolbar": "Slideshow",
  "kernelspec": {
   "display_name": "Python 2",
   "language": "python",
   "name": "python2"
  },
  "language_info": {
   "codemirror_mode": {
    "name": "ipython",
    "version": 2
   },
   "file_extension": ".py",
   "mimetype": "text/x-python",
   "name": "python",
   "nbconvert_exporter": "python",
   "pygments_lexer": "ipython2",
   "version": "2.7.12"
  },
  "nav_menu": {},
  "toc": {
   "navigate_menu": true,
   "number_sections": false,
   "sideBar": true,
   "threshold": 6,
   "toc_cell": false,
   "toc_section_display": "block",
   "toc_window_display": false
  }
 },
 "nbformat": 4,
 "nbformat_minor": 0
}
