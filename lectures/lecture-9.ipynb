{
 "cells": [
  {
   "cell_type": "markdown",
   "metadata": {
    "slideshow": {
     "slide_type": "slide"
    }
   },
   "source": [
    "# Lecture 9: From dense to sparse linear algebra"
   ]
  },
  {
   "cell_type": "markdown",
   "metadata": {
    "slideshow": {
     "slide_type": "slide"
    }
   },
   "source": [
    "## Recap of the previous lecture\n",
    "- Algorithms for the symmetric eigenvalue problems (QR-algorithm, Divide-and-Conquer, bisection)\n",
    "- SVD and its applications (collaborative filtering, integral equations, latent semantic indexing)\n"
   ]
  },
  {
   "cell_type": "markdown",
   "metadata": {
    "slideshow": {
     "slide_type": "slide"
    }
   },
   "source": [
    "## Interesting fact 1\n",
    "\n",
    "Before $$A_k = Q_k R_k, \\quad A_k = R_k Q_k$$, \n",
    "\n",
    "there was $LU-UL$ algorithm by [Heinz Rutishauser](https://en.wikipedia.org/wiki/Heinz_Rutishauser)\n",
    "\n",
    "$$A_k = L_k U_k, \\quad A_{k+1} = U_k L_k.$$\n",
    "\n",
    "This generates a sequence of similar matrices, but is less stable than QR algorithm.\n",
    "\n",
    "Int. fact: Heinz Rutishauser has proposed the **for** keyword in programming language."
   ]
  },
  {
   "cell_type": "markdown",
   "metadata": {
    "slideshow": {
     "slide_type": "slide"
    }
   },
   "source": [
    "## Interesting fact 2\n",
    "\n",
    "Recent paper [Strassen algorithm reloaded](http://delivery.acm.org/10.1145/3020000/3014983/a59-huang.pdf?ip=89.106.174.124&id=3014983&acc=OPEN&key=4D4702B0C3E38B35%2E4D4702B0C3E38B35%2E4D4702B0C3E38B35%2E6D218144511F3437&CFID=850797828&CFTOKEN=25065737&__acm__=1479192384_96a207c8760b13d6521f71b8bbc370f0)\n",
    "\n",
    "claim to **break conventional wisdom**\n",
    "\n"
   ]
  },
  {
   "cell_type": "markdown",
   "metadata": {
    "slideshow": {
     "slide_type": "slide"
    }
   },
   "source": [
    "## Strassen reloaded\n",
    "We dispel with “street wisdom” regarding the\n",
    "practical implementation of Strassen’s algorithm for matrixmatrix\n",
    "multiplication (DGEMM). \n",
    "\n",
    "- Conventional wisdom: it is only\n",
    " practical for very large matrices. Our implementation is practical\n",
    " for small matrices. \n",
    "- Conventional wisdom: the matrices being\n",
    " multiplied should be relatively square. Our implementation is\n",
    " practical for rank-k updates, where k is relatively small (a shape\n",
    " of importance for libraries like LAPACK). \n",
    "- Conventional wisdom:\n",
    "  it inherently requires substantial workspace. Our implementation\n",
    "  requires no workspace beyond buffers already incorporated\n",
    "  into conventional high-performance DGEMM implementations.\n",
    "- Conventional wisdom: a Strassen DGEMM interface must pass\n",
    " in workspace. Our implementation requires no such workspace\n",
    " and can be plug-compatible with the standard DGEMM interface.\n",
    "- Conventional wisdom: it is hard to demonstrate speedup\n",
    " on multi-core architectures. Our implementation demonstrates\n",
    " speedup over conventional DGEMM even on an IntelR Xeon\n",
    " PhiTM coprocessor utilizing 240 threads. We show how a distributed\n",
    " memory matrix-matrix multiplication also benefits from\n",
    " these advances."
   ]
  },
  {
   "cell_type": "markdown",
   "metadata": {
    "slideshow": {
     "slide_type": "slide"
    }
   },
   "source": [
    "## Sparse matrices \n",
    "\n",
    "For dense linear algebra problems, we are limited by the memory to store the full matrix, it is $N^2$ parameters.\n",
    "\n",
    "If we want to go to larger $N$, we have to store the matrix.\n",
    "\n",
    "The class of **sparse** matrices where most of the elements are zero, allows us **at least** to store such matrices.\n",
    "\n",
    "The question if we can:\n",
    "\n",
    "- Solve linear systems\n",
    "- Solve eigenvalue problems\n",
    "\n",
    "with such matrices. "
   ]
  },
  {
   "cell_type": "markdown",
   "metadata": {
    "slideshow": {
     "slide_type": "slide"
    }
   },
   "source": [
    "## Today lecture\n",
    "\n",
    "Today we will talk about **sparse matrices**, where they arise, how we store them, how we operate with them.\n",
    "\n",
    "\n",
    "- Formats: list of lists and compressed sparse row format, relation to graphs\n",
    "- Fast matrix-by-vector product\n",
    "- Fast direct solvers for Gaussian elimination\n"
   ]
  },
  {
   "cell_type": "markdown",
   "metadata": {
    "slideshow": {
     "slide_type": "slide"
    }
   },
   "source": [
    "## Applications of sparse matrices\n",
    "\n",
    "Sparse matrices appear: \n",
    "\n",
    "- In Partial Differential Equations (PDE), mathematical modelling\n",
    "- In graphs mining (social networks)\n",
    "- In recommender systems\n",
    "- Everywhere when there are relations between objects is \"sparse\"."
   ]
  },
  {
   "cell_type": "markdown",
   "metadata": {
    "slideshow": {
     "slide_type": "slide"
    }
   },
   "source": [
    "## Sparse matrices are ubiqitous in PDE\n",
    "Consider the simplest partial differential equation (PDE), called **Laplace equation**:  \n",
    "$$\n",
    "   \\Delta T = \\frac{\\partial^2 T}{\\partial x^2} + \\frac{\\partial^2 T}{\\partial y^2} = f.\n",
    "$$"
   ]
  },
  {
   "cell_type": "markdown",
   "metadata": {
    "slideshow": {
     "slide_type": "slide"
    }
   },
   "source": [
    "## Discretization\n",
    "$$\\frac{\\partial^2 T}{\\partial x^2} \\approx \\frac{T(x+h) + T(x-h) - 2T(x)}{h^2} + \\mathcal{O}(h^4),$$\n",
    "same for $\\frac{\\partial^2 T}{\\partial y^2},$\n",
    "and we get a linear system.  \n",
    "    First, let us do **one-dimensional case**:"
   ]
  },
  {
   "cell_type": "markdown",
   "metadata": {
    "slideshow": {
     "slide_type": "slide"
    }
   },
   "source": [
    "After the discretization of the one-dimensional Laplace equation with Dirichlet boundary conditions we have\n",
    "$$\\frac{u_{i+1} + u_{i-1} - 2u_i}{h^2} = f_i,$$\n",
    "\n",
    "or in the matrix form\n",
    "\n",
    "$$\n",
    "   A u = f,\n",
    "$$\n",
    "                   and ($n = 5$ illustration)\n",
    "\\begin{equation}\n",
    "A=-\\frac{1}{h^2}\\begin{bmatrix}\n",
    "   2& -1 & 0 & 0 & 0\\\\\n",
    "   -1 & 2 & -1 & 0 &0 \\\\\n",
    "   0 & -1 & 2& -1 & 0 \\\\\n",
    "   0 & 0 & -1 & 2  &-1\\\\\n",
    "   0 & 0 & 0 & -1 & 2\n",
    "   \\end{bmatrix}\n",
    "   \\end{equation}"
   ]
  },
  {
   "cell_type": "markdown",
   "metadata": {
    "slideshow": {
     "slide_type": "fragment"
    }
   },
   "source": [
    "The matrix is **triadiagonal** and **sparse**  \n",
    "(and also **Toeplitz**: all elements on the diagonal are the same)"
   ]
  },
  {
   "cell_type": "markdown",
   "metadata": {
    "slideshow": {
     "slide_type": "slide"
    }
   },
   "source": [
    "## Block structure in 2D\n",
    "In two dimensions, we get equation of the form  \n",
    "$$\\frac{4u_{ij} -u_{(i-1)j} - u_{(i+1)j} - u_{i(j-1)}-u_{i(j+1)}}{h^2} = f_{ij},$$\n",
    "\n",
    "or in the **Kronecker product form**  \n",
    "\n",
    "$$\\Delta_2 = \\Delta_1 \\otimes I + I \\otimes \\Delta_1,$$\n",
    "\n",
    "where $\\Delta_1$ is a 1D Laplacian, and $\\otimes$ is a **Kronecker product** of matrices. \n",
    "\n",
    "For matrices $A$ and $B$ its Kronecker product is defined as a block matrix of the form \n",
    "$$\n",
    "   [a_{ij} B]\n",
    "$$"
   ]
  },
  {
   "cell_type": "markdown",
   "metadata": {
    "slideshow": {
     "slide_type": "slide"
    }
   },
   "source": [
    "In the block matrix form the 2D-Laplace matrix can be written in the following form:  \n",
    "\n",
    "$$\n",
    "   A = -\\frac{1}{h^2}\\begin{bmatrix}\n",
    "   \\Delta_1 + 2I & -I & 0 & 0 & 0\\\\\n",
    "   -I & \\Delta_1 + 2I  & -I & 0 &0 \\\\\n",
    "   0 & -I & \\Delta_1 + 2I & -I & 0 \\\\\n",
    "   0 & 0 & -I & \\Delta_1 + 2I   &-I\\\\\n",
    "   0 & 0 & 0 & -I & \\Delta_1 + 2I \n",
    "   \\end{bmatrix}\n",
    "$$"
   ]
  },
  {
   "cell_type": "markdown",
   "metadata": {
    "slideshow": {
     "slide_type": "slide"
    }
   },
   "source": [
    "## Sparse matrix.\n",
    "\n",
    "We can create this matrix using **scipy.sparse** package (actually this is **not the best** sparse matrix package)\n",
    "\n",
    "We can go to really large sizes (at least, to store this matrix in the memory).\n",
    "\n",
    "We have \"sparse tridiagonal matrix\" in scipy, we have Kronecker product overloaded, we have sparse matrix as an output."
   ]
  },
  {
   "cell_type": "code",
   "execution_count": 2,
   "metadata": {
    "collapsed": false,
    "slideshow": {
     "slide_type": "slide"
    }
   },
   "outputs": [
    {
     "data": {
      "text/plain": [
       "<matplotlib.lines.Line2D at 0x1042e9f90>"
      ]
     },
     "execution_count": 2,
     "metadata": {},
     "output_type": "execute_result"
    },
    {
     "data": {
      "image/png": "[encoded data removed]",
      "text/plain": [
       "<matplotlib.figure.Figure at 0x109f10650>"
      ]
     },
     "metadata": {},
     "output_type": "display_data"
    }
   ],
   "source": [
    "import numpy as np\n",
    "import scipy as sp\n",
    "import scipy.sparse\n",
    "from scipy.sparse import csc_matrix\n",
    "import matplotlib.pyplot as plt\n",
    "%matplotlib inline\n",
    "n = 1024\n",
    "ex = np.ones(n);\n",
    "lp1 = sp.sparse.spdiags(np.vstack((ex,  -2*ex, ex)), [-1, 0, 1], n, n, 'csr'); \n",
    "e = sp.sparse.eye(n)\n",
    "A = sp.sparse.kron(lp1, e) + sp.sparse.kron(e, lp1)\n",
    "A = csc_matrix(A)\n",
    "plt.spy(A, aspect='equal', marker='.', markersize=1)"
   ]
  },
  {
   "cell_type": "markdown",
   "metadata": {
    "slideshow": {
     "slide_type": "slide"
    }
   },
   "source": [
    "## Sparsity pattern \n",
    "\n",
    "The ``spy`` command plots the sparsity pattern of the matrix: the $(i, j)$ pixel is drawn, if the corresponding matrix element is non-zero.\n",
    "\n",
    "Sparsity pattern is really important for the understanding the complexity of the sparse linear algebra algorithms.  \n",
    "\n",
    "Often, only the sparsity pattern is needed for the analysis of \"how complex\" the matrix is."
   ]
  },
  {
   "cell_type": "markdown",
   "metadata": {
    "slideshow": {
     "slide_type": "slide"
    }
   },
   "source": [
    "## Sparse matrix: formal definition\n",
    "\n",
    "The formal definition of \"sparse matrix\" is that the number of **non-zero elements** is much less than the total number of\n",
    "\n",
    "elements, so you can do the basic linear algebra operations (like solving linear systems at the first place) can be done faster, \n",
    "\n",
    "than if working for with the full matrix.\n",
    "\n",
    "The **scipy.sparse** package has tools for solving sparse linear systems:"
   ]
  },
  {
   "cell_type": "code",
   "execution_count": 10,
   "metadata": {
    "collapsed": false,
    "slideshow": {
     "slide_type": "slide"
    }
   },
   "outputs": [
    {
     "data": {
      "text/plain": [
       "<matplotlib.contour.QuadContourSet at 0x10e564f50>"
      ]
     },
     "execution_count": 10,
     "metadata": {},
     "output_type": "execute_result"
    },
    {
     "data": {
      "image/png": "[encoded data removed]",
      "text/plain": [
       "<matplotlib.figure.Figure at 0x10d8bc790>"
      ]
     },
     "metadata": {},
     "output_type": "display_data"
    }
   ],
   "source": [
    "import numpy as np\n",
    "import scipy as sp\n",
    "import scipy.sparse\n",
    "import scipy.sparse.linalg\n",
    "import seaborn as sns\n",
    "from scipy.sparse import csc_matrix, csr_matrix\n",
    "import matplotlib.pyplot as plt\n",
    "%matplotlib inline\n",
    "n = 512\n",
    "ex = np.ones(n);\n",
    "lp1 = sp.sparse.spdiags(np.vstack((ex,  -2*ex, ex)), [-1, 0, 1], n, n, 'csr'); \n",
    "e = sp.sparse.eye(n)\n",
    "A = sp.sparse.kron(lp1, e) + sp.sparse.kron(e, lp1)\n",
    "A = csr_matrix(A)\n",
    "rhs = np.ones(n * n)\n",
    "sol = sp.sparse.linalg.spsolve(A, rhs)\n",
    "#plt.plot(sol)\n",
    "plt.contourf(sol.reshape((n, n)))"
   ]
  },
  {
   "cell_type": "markdown",
   "metadata": {
    "slideshow": {
     "slide_type": "slide"
    }
   },
   "source": [
    "## What we need to find out to see how it actually works\n",
    "\n",
    "**Question 1:** How to store the sparse matrix in memory?\n",
    "\n",
    "**Question 2:** How to multiply sparse matrix by vector fast?\n",
    "\n",
    "**Question 3:** How to solve linear systems with sparse matrices fast?\n",
    "\n"
   ]
  },
  {
   "cell_type": "markdown",
   "metadata": {
    "slideshow": {
     "slide_type": "slide"
    }
   },
   "source": [
    "## Sparse matrix storage\n",
    "\n",
    "There are many of those, important ones:\n",
    "\n",
    "- COO (Coordinate format)\n",
    "- LIL (Lists of lists)\n",
    "- CSR (compressed sparse row)\n",
    "- CSC (compressed sparse column)\n",
    "- Block variants"
   ]
  },
  {
   "cell_type": "markdown",
   "metadata": {
    "slideshow": {
     "slide_type": "slide"
    }
   },
   "source": [
    "## Coordinate format\n",
    "\n",
    "The simplest format is to use **coordinate format** to represent the sparse matrix as positions and values of non-zero elements.\n",
    "\n",
    "``python\n",
    "i, j, val\n",
    "``\n",
    "\n",
    "where i, j are integer array, val is the real array.\n",
    "\n",
    "**Q:** What is good and what is bad for this format?"
   ]
  },
  {
   "cell_type": "markdown",
   "metadata": {
    "slideshow": {
     "slide_type": "slide"
    }
   },
   "source": [
    "## Main disadvantage\n",
    "\n",
    "- It is not optimal in storage (why?)\n",
    "- It is not optimal for matrix-by-vector product (why?)\n",
    "- It is not optimal for adding/removing elements (this is good in LIL format)\n",
    "\n",
    "This is solved by **compressed sparse row** (CSR) format."
   ]
  },
  {
   "cell_type": "markdown",
   "metadata": {
    "slideshow": {
     "slide_type": "slide"
    }
   },
   "source": [
    "## Compressed sparse row (CSR)\n",
    "\n",
    "In the CSR format a matrix is stored as 3 different arrays: \n",
    "```python\n",
    "ia, ja, sa\n",
    "```\n",
    "where:\n",
    "\n",
    "- **ia** is an integer array of length $n+1$ \n",
    "- **ja** is an integer array of length **nnz** \n",
    "-  **sa** is an real-value array of length **nnz**\n",
    "- **nnz** is the total number of non-zeros for the matrix\n"
   ]
  },
  {
   "cell_type": "markdown",
   "metadata": {
    "slideshow": {
     "slide_type": "slide"
    }
   },
   "source": [
    "## Idea behind CSR.\n",
    "- For each row $i$ we store the column number of the non-zeros (and their) values\n",
    "- We stack this all together into **ja** and **sa** arrays\n",
    "- We save the location of the **first non-zero element** in each row"
   ]
  },
  {
   "cell_type": "markdown",
   "metadata": {
    "slideshow": {
     "slide_type": "slide"
    }
   },
   "source": [
    "## CSR helps for matrix-by-vector product as well\n",
    "```python\n",
    "   for i in range(n):\n",
    "       for k in range(ia[i]:ia[i+1]):\n",
    "           y[i] += sa[k] * x[ja[k]]\n",
    "```"
   ]
  },
  {
   "cell_type": "markdown",
   "metadata": {
    "slideshow": {
     "slide_type": "fragment"
    }
   },
   "source": [
    "Let us do a short timing test"
   ]
  },
  {
   "cell_type": "code",
   "execution_count": 11,
   "metadata": {
    "collapsed": false,
    "slideshow": {
     "slide_type": "slide"
    }
   },
   "outputs": [
    {
     "name": "stdout",
     "output_type": "stream",
     "text": [
      "The slowest run took 9.96 times longer than the fastest. This could mean that an intermediate result is being cached.\n",
      "10000 loops, best of 3: 46.6 µs per loop\n",
      "The slowest run took 26.95 times longer than the fastest. This could mean that an intermediate result is being cached.\n",
      "10000 loops, best of 3: 70.6 µs per loop\n"
     ]
    }
   ],
   "source": [
    "import numpy as np\n",
    "import scipy as sp\n",
    "import scipy.sparse\n",
    "import scipy.sparse.linalg\n",
    "from scipy.sparse import csc_matrix, csr_matrix, coo_matrix\n",
    "import matplotlib.pyplot as plt\n",
    "%matplotlib inline\n",
    "n = 60\n",
    "ex = np.ones(n);\n",
    "lp1 = sp.sparse.spdiags(np.vstack((ex,  -2*ex, ex)), [-1, 0, 1], n, n, 'csr'); \n",
    "e = sp.sparse.eye(n)\n",
    "A = sp.sparse.kron(lp1, e) + sp.sparse.kron(e, lp1)\n",
    "A = csr_matrix(A)\n",
    "rhs = np.ones(n * n)\n",
    "B = coo_matrix(A)\n",
    "%timeit A.dot(rhs)\n",
    "%timeit B.dot(rhs)"
   ]
  },
  {
   "cell_type": "markdown",
   "metadata": {
    "slideshow": {
     "slide_type": "fragment"
    }
   },
   "source": [
    "As you see, **CSR** is faster, and for more **unstructured patterns** the gain will be larger."
   ]
  },
  {
   "cell_type": "markdown",
   "metadata": {
    "slideshow": {
     "slide_type": "slide"
    }
   },
   "source": [
    "## Sparse matrices and efficiency\n",
    "Sparse matrix give complexity reduction.  \n",
    "\n",
    "But they are **not very good** for parallel/GPU implementation.  \n",
    "\n",
    "And they do not give maximal efficiency due to **random data access**.  \n",
    "\n",
    "Typically, peak efficiency of $10\\%-15\\%$ is considered good.  "
   ]
  },
  {
   "cell_type": "markdown",
   "metadata": {
    "slideshow": {
     "slide_type": "slide"
    }
   },
   "source": [
    "## Recall how we measure efficiency of linear algebra operations\n",
    "\n",
    "The standard way to measure the efficiency of linear algebra operations on a particular computing architecture is to \n",
    "\n",
    "use **flops** (number of floating point operations per second)\n",
    "\n",
    "The peak performance is determined as \n",
    "\n",
    " **frequency x number of cores x pipeline size x 2**\n",
    "\n",
    "We can measure peak efficiency of an ordinary matrix-by-vector product."
   ]
  },
  {
   "cell_type": "code",
   "execution_count": 12,
   "metadata": {
    "collapsed": false,
    "slideshow": {
     "slide_type": "slide"
    }
   },
   "outputs": [
    {
     "name": "stdout",
     "output_type": "stream",
     "text": [
      "Time:  7.4e-03, Efficiency:  4.3e+00 Gflops\n"
     ]
    }
   ],
   "source": [
    "import numpy as np\n",
    "import time\n",
    "n = 4000\n",
    "a = np.random.randn(n, n)\n",
    "v = np.random.randn(n)\n",
    "t = time.time()\n",
    "np.dot(a, v)\n",
    "t = time.time() - t\n",
    "print('Time: {0: 3.1e}, Efficiency: {1: 3.1e} Gflops'.\\\n",
    "      format(t,  ((2 * n ** 2)/t) / 10 ** 9))"
   ]
  },
  {
   "cell_type": "code",
   "execution_count": 13,
   "metadata": {
    "collapsed": false,
    "slideshow": {
     "slide_type": "slide"
    }
   },
   "outputs": [
    {
     "name": "stdout",
     "output_type": "stream",
     "text": [
      "Time:  2.0e-04, Efficiency:  5.9e-02 Gflops\n"
     ]
    }
   ],
   "source": [
    "n = 4000\n",
    "ex = np.ones(n);\n",
    "a = sp.sparse.spdiags(np.vstack((ex,  -2*ex, ex)), [-1, 0, 1], n, n, 'csr'); \n",
    "rhs = np.random.randn(n)\n",
    "t = time.time()\n",
    "a.dot(rhs)\n",
    "t = time.time() - t\n",
    "print('Time: {0: 3.1e}, Efficiency: {1: 3.1e} Gflops'.\\\n",
    "      format(t,  (3 * n) / t / 10 ** 9))"
   ]
  },
  {
   "cell_type": "markdown",
   "metadata": {
    "slideshow": {
     "slide_type": "slide"
    }
   },
   "source": [
    "## How to make things more efficient\n",
    "\n",
    "Sparse matrix computations dominate the linear algebra computations nowdays.\n",
    "\n",
    "They allow us to work with much larger matrices, but they utilize only $10\\%-15\\%$ percent of the peak computer performance.\n",
    "\n",
    "It means, that our computer architecture **is not well suited** for standard sparse matrix algorithms.\n",
    "\n",
    "There are many possible solutions of the problem, for example:\n",
    "\n",
    "1. Use block sparse format\n",
    "2. Reorder equations to make them more \"block\"\n",
    "3. Instead of vectors, use \"block vectors\""
   ]
  },
  {
   "cell_type": "code",
   "execution_count": 23,
   "metadata": {
    "collapsed": false,
    "slideshow": {
     "slide_type": "slide"
    }
   },
   "outputs": [
    {
     "name": "stdout",
     "output_type": "stream",
     "text": [
      "Time:  1.0e-03, Efficiency:  2.9e-01 Gflops\n"
     ]
    }
   ],
   "source": [
    "\n",
    "n = 10000\n",
    "k = 10\n",
    "ex = np.ones(n);\n",
    "a = sp.sparse.spdiags(np.vstack((ex,  -2*ex, ex)), [-1, 0, 1], n, n, 'csr'); \n",
    "rhs = np.random.randn(*(n, k))\n",
    "t = time.time()\n",
    "a.dot(rhs)\n",
    "t = time.time() - t\n",
    "print('Time: {0: 3.1e}, Efficiency: {1: 3.1e} Gflops'.\\\n",
    "      format(t,  (3 * n * k) / t / 10 ** 9))"
   ]
  },
  {
   "cell_type": "markdown",
   "metadata": {
    "slideshow": {
     "slide_type": "slide"
    }
   },
   "source": [
    "## Florida sparse matrix collection\n",
    "\n",
    "There are many other types of matrices besides tridiagonal/block tridiagonal\n",
    "\n",
    "[Florida sparse matrix collection](http://www.cise.ufl.edu/research/sparse/matrices/) which contains all sorts of matrices for different applications.\n",
    "\n",
    "It also allows for finding test matrices as well! \n",
    "\n",
    "We can have a look."
   ]
  },
  {
   "cell_type": "code",
   "execution_count": 24,
   "metadata": {
    "collapsed": false,
    "slideshow": {
     "slide_type": "slide"
    }
   },
   "outputs": [
    {
     "data": {
      "text/html": [
       "<iframe src=http://yifanhu.net/GALLERY/GRAPHS/search.html width=700 height=450></iframe>"
      ],
      "text/plain": [
       "<IPython.core.display.HTML object>"
      ]
     },
     "execution_count": 24,
     "metadata": {},
     "output_type": "execute_result"
    }
   ],
   "source": [
    "from IPython.display import HTML\n",
    "HTML('<iframe src=http://yifanhu.net/GALLERY/GRAPHS/search.html width=700 height=450></iframe>')\n"
   ]
  },
  {
   "cell_type": "markdown",
   "metadata": {
    "slideshow": {
     "slide_type": "slide"
    }
   },
   "source": [
    "## Visualization of sparse matrices and graph\n",
    "\n",
    "Sparse matrices and fast algorithms (especially for linear systems) have deep connection with graph theory.\n",
    "\n",
    "First of all, sparse matrix can be treated as an **adjacency matrix** of a certain graph:\n",
    "\n",
    "The vertices $(i, j)$ are connected, if the corresponding matrix element is non-zero.\n",
    "\n",
    "The graph can be undirected (if the matrix is symmetric), and is directed otherwise."
   ]
  },
  {
   "cell_type": "markdown",
   "metadata": {
    "slideshow": {
     "slide_type": "slide"
    }
   },
   "source": [
    "## Graph structure is important for LU decomposition\n",
    "\n",
    "Why sparse linear systems can be solved faster, what is the technique? \n",
    "\n",
    "In the LU-factorization of the matrix $A$ the factors $L$ and $U$ can be also sparse:\n",
    "\n",
    "$$A = L U$$\n",
    "\n",
    "And solving linear systems with **sparse** triangular matrices is very easy.  \n",
    "\n",
    "<font color='red'> Note that the inverse matrix is not sparse! </font>\n"
   ]
  },
  {
   "cell_type": "code",
   "execution_count": 3,
   "metadata": {
    "collapsed": false,
    "slideshow": {
     "slide_type": "slide"
    }
   },
   "outputs": [
    {
     "name": "stdout",
     "output_type": "stream",
     "text": [
      "[[-2.  1.  0.  0.  0.  0.  0.]\n",
      " [ 1. -2.  1.  0.  0.  0.  0.]\n",
      " [ 0.  1. -2.  1.  0.  0.  0.]\n",
      " [ 0.  0.  1. -2.  1.  0.  0.]\n",
      " [ 0.  0.  0.  1. -2.  1.  0.]\n",
      " [ 0.  0.  0.  0.  1. -2.  1.]\n",
      " [ 0.  0.  0.  0.  0.  1. -2.]]\n",
      "[[-0.875 -0.75  -0.625 -0.5   -0.375 -0.25  -0.125]\n",
      " [-0.75  -1.5   -1.25  -1.    -0.75  -0.5   -0.25 ]\n",
      " [-0.625 -1.25  -1.875 -1.5   -1.125 -0.75  -0.375]\n",
      " [-0.5   -1.    -1.5   -2.    -1.5   -1.    -0.5  ]\n",
      " [-0.375 -0.75  -1.125 -1.5   -1.875 -1.25  -0.625]\n",
      " [-0.25  -0.5   -0.75  -1.    -1.25  -1.5   -0.75 ]\n",
      " [-0.125 -0.25  -0.375 -0.5   -0.625 -0.75  -0.875]]\n"
     ]
    }
   ],
   "source": [
    "#Indeed, it is not sparse\n",
    "n = 7\n",
    "ex = np.ones(n);\n",
    "a = sp.sparse.spdiags(np.vstack((ex,  -2*ex, ex)), [-1, 0, 1], n, n, 'csr'); \n",
    "a = a.todense()\n",
    "b = np.array(np.linalg.inv(a))\n",
    "print a\n",
    "print b"
   ]
  },
  {
   "cell_type": "markdown",
   "metadata": {
    "slideshow": {
     "slide_type": "slide"
    }
   },
   "source": [
    "## And the factors...\n",
    "\n",
    "$L$ and $U$ are typically much better. In the tridiagonal case they are even bidiagonal!"
   ]
  },
  {
   "cell_type": "code",
   "execution_count": 18,
   "metadata": {
    "collapsed": false,
    "slideshow": {
     "slide_type": "fragment"
    }
   },
   "outputs": [
    {
     "name": "stdout",
     "output_type": "stream",
     "text": [
      "[[ 0.          0.          0.          0.         -0.5        -0.71428571\n",
      "   1.        ]]\n",
      "[0 1 2 3 5 4 6]\n"
     ]
    }
   ],
   "source": [
    "from scipy.sparse.linalg import splu\n",
    "T=splu(a)\n",
    "print T.L.todense()[-1, :]\n",
    "print(T.perm_c)\n",
    "#print l"
   ]
  },
  {
   "cell_type": "code",
   "execution_count": null,
   "metadata": {
    "collapsed": true
   },
   "outputs": [],
   "source": []
  },
  {
   "cell_type": "markdown",
   "metadata": {
    "slideshow": {
     "slide_type": "slide"
    }
   },
   "source": [
    "## 2D-case\n",
    "However, for a 2D case everything is much worser:"
   ]
  },
  {
   "cell_type": "code",
   "execution_count": 19,
   "metadata": {
    "collapsed": false,
    "slideshow": {
     "slide_type": "fragment"
    }
   },
   "outputs": [
    {
     "data": {
      "text/plain": [
       "<matplotlib.lines.Line2D at 0x10bace590>"
      ]
     },
     "execution_count": 19,
     "metadata": {},
     "output_type": "execute_result"
    },
    {
     "data": {
      "image/png": "[encoded data removed]",
      "text/plain": [
       "<matplotlib.figure.Figure at 0x10f7ac590>"
      ]
     },
     "metadata": {},
     "output_type": "display_data"
    }
   ],
   "source": [
    "n = 20\n",
    "ex = np.ones(n);\n",
    "lp1 = sp.sparse.spdiags(np.vstack((ex,  -2*ex, ex)), [-1, 0, 1], n, n, 'csr'); \n",
    "e = sp.sparse.eye(n)\n",
    "A = sp.sparse.kron(lp1, e) + sp.sparse.kron(e, lp1)\n",
    "A = csc_matrix(A)\n",
    "T = scipy.sparse.linalg.spilu(A)\n",
    "plt.spy(T.L, marker='.', color='k', markersize=8)"
   ]
  },
  {
   "cell_type": "markdown",
   "metadata": {
    "slideshow": {
     "slide_type": "slide"
    }
   },
   "source": [
    "For two-dimensional case the number of nonzeros in the L factor grows as $\\mathcal{O}(N \\log N)$. But  complexity is $\\mathcal{O}(N^{3/2})$."
   ]
  },
  {
   "cell_type": "markdown",
   "metadata": {
    "slideshow": {
     "slide_type": "slide"
    }
   },
   "source": [
    "## Sparse matrices and graph ordering\n",
    "The number of non-zeros in LU decomposition has a deep connection to the graph theory.\n",
    "\n",
    "(I.e., there is an edge between $(i, j)$ if $a_{ij} \\ne 0$.\n",
    "\n",
    "``networkx package`` can be used to visualize graphs, given only the adjacency matrix. \n",
    "\n",
    "It may even recover to some extend the graph structure."
   ]
  },
  {
   "cell_type": "code",
   "execution_count": 31,
   "metadata": {
    "collapsed": false,
    "slideshow": {
     "slide_type": "slide"
    }
   },
   "outputs": [
    {
     "data": {
      "image/png": "[encoded data removed]",
      "text/plain": [
       "<matplotlib.figure.Figure at 0x1175c6a10>"
      ]
     },
     "metadata": {},
     "output_type": "display_data"
    }
   ],
   "source": [
    "import networkx as nx\n",
    "n = 10\n",
    "ex = np.ones(n);\n",
    "lp1 = sp.sparse.spdiags(np.vstack((ex,  -2*ex, ex)), [-1, 0, 1], n, n, 'csr'); \n",
    "e = sp.sparse.eye(n)\n",
    "A = sp.sparse.kron(lp1, e) + sp.sparse.kron(e, lp1)\n",
    "A = csc_matrix(A)\n",
    "G = nx.Graph(A)\n",
    "nx.draw(G, pos=nx.spring_layout(G), node_size=10)"
   ]
  },
  {
   "cell_type": "markdown",
   "metadata": {
    "slideshow": {
     "slide_type": "slide"
    }
   },
   "source": [
    "## Fill-in minimization\n",
    "\n",
    "Reordering the rows and the columns of the sparse matrix in order to reduce the number of non-zeros in $L$ and $U$ factors is called (**fill-in** minimization)  \n",
    "\n",
    "is based on graph theory:\n",
    "\n",
    "\n",
    "- **Minimum degree ordering** - order by the degree of the vertex\n",
    "- **Cuthill–McKee algorithm** (and reverse Cuthill-McKee) -- order for a small bandwidth\n",
    "- **Nested dissection**: split the graph into two with minimal number of vertices on the separator"
   ]
  },
  {
   "cell_type": "markdown",
   "metadata": {
    "slideshow": {
     "slide_type": "slide"
    }
   },
   "source": [
    "## Take home message\n",
    "- CSR format for storage\n",
    "- Sparse matrices & graphs ordering\n",
    "- Ordering is important for LU fill-in: more details on Thursday."
   ]
  },
  {
   "cell_type": "markdown",
   "metadata": {
    "slideshow": {
     "slide_type": "slide"
    }
   },
   "source": [
    "# Questions?"
   ]
  },
  {
   "cell_type": "code",
   "execution_count": 1,
   "metadata": {
    "collapsed": false,
    "slideshow": {
     "slide_type": "skip"
    }
   },
   "outputs": [
    {
     "data": {
      "text/html": [
       "<link href='http://fonts.googleapis.com/css?family=Fenix' rel='stylesheet' type='text/css'>\n",
       "<link href='http://fonts.googleapis.com/css?family=Alegreya+Sans:100,300,400,500,700,800,900,100italic,300italic,400italic,500italic,700italic,800italic,900italic' rel='stylesheet' type='text/css'>\n",
       "<link href='http://fonts.googleapis.com/css?family=Source+Code+Pro:300,400' rel='stylesheet' type='text/css'>\n",
       "<style>\n",
       "    @font-face {\n",
       "        font-family: \"Computer Modern\";\n",
       "        src: url('http://mirrors.ctan.org/fonts/cm-unicode/fonts/otf/cmunss.otf');\n",
       "    }\n",
       "    div.cell{\n",
       "        /*width:80%;*/\n",
       "        /*margin-left:auto !important;\n",
       "        margin-right:auto;*/\n",
       "    }\n",
       "    h1 {\n",
       "        font-family: 'Alegreya Sans', sans-serif;\n",
       "    }\n",
       "    h2 {\n",
       "        font-family: 'Fenix', serif;\n",
       "    }\n",
       "    h3{\n",
       "\t\tfont-family: 'Fenix', serif;\n",
       "        margin-top:12px;\n",
       "        margin-bottom: 3px;\n",
       "       }\n",
       "\th4{\n",
       "\t\tfont-family: 'Fenix', serif;\n",
       "       }\n",
       "    h5 {\n",
       "        font-family: 'Alegreya Sans', sans-serif;\n",
       "    }\t   \n",
       "    div.text_cell_render{\n",
       "        font-family: 'Alegreya Sans',Computer Modern, \"Helvetica Neue\", Arial, Helvetica, Geneva, sans-serif;\n",
       "        line-height: 1.2;\n",
       "        font-size: 120%;\n",
       "        /*width:70%;*/\n",
       "        /*margin-left:auto;*/\n",
       "        margin-right:auto;\n",
       "    }\n",
       "    .CodeMirror{\n",
       "            font-family: \"Source Code Pro\";\n",
       "\t\t\tfont-size: 90%;\n",
       "    }\n",
       "/*    .prompt{\n",
       "        display: None;\n",
       "    }*/\n",
       "    .text_cell_render h1 {\n",
       "        font-weight: 200;\n",
       "        font-size: 50pt;\n",
       "\t\tline-height: 110%;\n",
       "        color:#CD2305;\n",
       "        margin-bottom: 0.5em;\n",
       "        margin-top: 0.5em;\n",
       "        display: block;\n",
       "    }\t\n",
       "    .text_cell_render h5 {\n",
       "        font-weight: 300;\n",
       "        font-size: 16pt;\n",
       "        color: #CD2305;\n",
       "        font-style: italic;\n",
       "        margin-bottom: .5em;\n",
       "        margin-top: 0.5em;\n",
       "        display: block;\n",
       "    }\n",
       "    \n",
       "    li {\n",
       "        line-height: 110%;\n",
       "    }\n",
       "    .warning{\n",
       "        color: rgb( 240, 20, 20 )\n",
       "        }  \n",
       "\n",
       "</style>\n",
       "\n",
       "<script>\n",
       "    MathJax.Hub.Config({\n",
       "                        TeX: {\n",
       "                           extensions: [\"AMSmath.js\"]\n",
       "                           },\n",
       "                tex2jax: {\n",
       "                    inlineMath: [ ['$','$'], [\"\\\\(\",\"\\\\)\"] ],\n",
       "                    displayMath: [ ['$$','$$'], [\"\\\\[\",\"\\\\]\"] ]\n",
       "                },\n",
       "                displayAlign: 'center', // Change this to 'center' to center equations.\n",
       "                \"HTML-CSS\": {\n",
       "                    styles: {'.MathJax_Display': {\"margin\": 4}}\n",
       "                }\n",
       "        });\n",
       "</script>\n"
      ],
      "text/plain": [
       "<IPython.core.display.HTML object>"
      ]
     },
     "execution_count": 1,
     "metadata": {},
     "output_type": "execute_result"
    }
   ],
   "source": [
    "from IPython.core.display import HTML\n",
    "def css_styling():\n",
    "    styles = open(\"./styles/custom.css\", \"r\").read()\n",
    "    return HTML(styles)\n",
    "css_styling()"
   ]
  }
 ],
 "metadata": {
  "anaconda-cloud": {},
  "celltoolbar": "Slideshow",
  "kernelspec": {
   "display_name": "Python [default]",
   "language": "python",
   "name": "python2"
  },
  "language_info": {
   "codemirror_mode": {
    "name": "ipython",
    "version": 2
   },
   "file_extension": ".py",
   "mimetype": "text/x-python",
   "name": "python",
   "nbconvert_exporter": "python",
   "pygments_lexer": "ipython2",
   "version": "2.7.12"
  },
  "nav_menu": {},
  "toc": {
   "navigate_menu": true,
   "number_sections": false,
   "sideBar": true,
   "threshold": 6,
   "toc_cell": false,
   "toc_section_display": "block",
   "toc_window_display": false
  }
 },
 "nbformat": 4,
 "nbformat_minor": 0
}
